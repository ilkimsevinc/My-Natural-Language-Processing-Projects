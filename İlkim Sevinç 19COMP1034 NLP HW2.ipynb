{
 "cells": [
  {
   "cell_type": "markdown",
   "id": "9f63734f",
   "metadata": {},
   "source": [
    "In this homework, your code gets a string and an integer number as input from the user and finds and prints all strings inside this text file: D:\\input.txt. Note that the text inside D:\\input.txt should be first loaded to a variable and then should be tokenized. Then you can use the edit distance method of NLTK to find those strings."
   ]
  },
  {
   "cell_type": "code",
   "execution_count": 1,
   "id": "bf1070bb",
   "metadata": {},
   "outputs": [
    {
     "name": "stdout",
     "output_type": "stream",
     "text": [
      "aabb\n",
      "took\n",
      "hook\n",
      "book\n",
      "cook\n",
      "loop\n",
      "hoop\n",
      "xxyy\n",
      "\n"
     ]
    }
   ],
   "source": [
    "file = open(\"D:\\\\Mytext.txt\", encoding = \"utf-8\")\n",
    "text= file.read()\n",
    "print(text)"
   ]
  },
  {
   "cell_type": "code",
   "execution_count": 2,
   "id": "a038f14e",
   "metadata": {},
   "outputs": [
    {
     "data": {
      "text/plain": [
       "['aabb', 'took', 'hook', 'book', 'cook', 'loop', 'hoop', 'xxyy']"
      ]
     },
     "execution_count": 2,
     "metadata": {},
     "output_type": "execute_result"
    }
   ],
   "source": [
    "from nltk.tokenize import word_tokenize\n",
    "word_tokenize(text)"
   ]
  },
  {
   "cell_type": "code",
   "execution_count": 3,
   "id": "db5e23a7",
   "metadata": {
    "scrolled": true
   },
   "outputs": [
    {
     "name": "stdout",
     "output_type": "stream",
     "text": [
      "Enter string: look\n",
      "look\n",
      "Enter integer: 1\n",
      "1\n"
     ]
    }
   ],
   "source": [
    "string_entered = input(\"Enter string: \")\n",
    "print(string_entered)\n",
    "int_entered = int(input(\"Enter integer: \"))\n",
    "print(int_entered)"
   ]
  },
  {
   "cell_type": "code",
   "execution_count": 18,
   "id": "598f6c6f",
   "metadata": {},
   "outputs": [
    {
     "name": "stdout",
     "output_type": "stream",
     "text": [
      "all words in text:\n",
      "aabb\n",
      "took\n",
      "hook\n",
      "book\n",
      "cook\n",
      "loop\n",
      "hoop\n",
      "xxyy\n"
     ]
    }
   ],
   "source": [
    "print(\"all words in text:\")\n",
    "for i in word_tokenize(text):\n",
    "    print(i)"
   ]
  },
  {
   "cell_type": "code",
   "execution_count": 13,
   "id": "72714b19",
   "metadata": {},
   "outputs": [
    {
     "name": "stdout",
     "output_type": "stream",
     "text": [
      "words in text which have edit distance = 1 with ' look '\n",
      "took\n",
      "hook\n",
      "book\n",
      "cook\n",
      "loop\n"
     ]
    }
   ],
   "source": [
    "import nltk\n",
    "print(\"words in text which have edit distance =\",int_entered, \"with\", \"'\",string_entered,\"'\")\n",
    "\n",
    "for i in word_tokenize(text):\n",
    "    distance = nltk.edit_distance(string_entered, i)\n",
    "    if int_entered == nltk.edit_distance(string_entered, i):\n",
    "            print(i)\n",
    "    \n",
    "   "
   ]
  },
  {
   "cell_type": "code",
   "execution_count": 19,
   "id": "c6581735",
   "metadata": {},
   "outputs": [],
   "source": []
  },
  {
   "cell_type": "code",
   "execution_count": null,
   "id": "3026c845",
   "metadata": {},
   "outputs": [],
   "source": []
  }
 ],
 "metadata": {
  "kernelspec": {
   "display_name": "Python 3 (ipykernel)",
   "language": "python",
   "name": "python3"
  },
  "language_info": {
   "codemirror_mode": {
    "name": "ipython",
    "version": 3
   },
   "file_extension": ".py",
   "mimetype": "text/x-python",
   "name": "python",
   "nbconvert_exporter": "python",
   "pygments_lexer": "ipython3",
   "version": "3.9.13"
  }
 },
 "nbformat": 4,
 "nbformat_minor": 5
}
